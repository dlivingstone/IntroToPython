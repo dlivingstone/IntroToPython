{
 "cells": [
  {
   "cell_type": "markdown",
   "metadata": {},
   "source": [
    "Introduction to Python\n",
    "===\n",
    "These lectures are based on the \"Introduction to Python\" resources by Eric Matthes, developed as a resource for students who want to learn Python as their first language, and for teachers who want a free and open curriculum to use with their students.\n",
    "\n",
    "While we are using a modified version of the course, you can also visit the original student-facing pages at [introtopython.org](http://introtopython.org). There is a cleaner navigation there, and some better overall styling.\n",
    "\n",
    "Note that we'll be doing somethings a little differently, but you may also wish to refer to Eric's course which includes some features of Python that we'll be skipping over."
   ]
  },
  {
   "cell_type": "markdown",
   "metadata": {},
   "source": [
    "Introduction to Jupyter Notebooks\n",
    "---\n",
    "These lectures are delivered using Jupyter Notebooks. Notebooks are interactive pages that allow us to put code into a page which mixes text (for annotations, comments or instructions) and live code that can be edited and run.\n",
    "\n",
    "Double clicking on any text paragraph allows it to be edited, and pressing the Control & Return keys together will exit editing. If you click on a cell containing code then press Ctrl-Return, the code will run in the notebook and output will be displayed. We'll demonstrate that below!"
   ]
  },
  {
   "cell_type": "markdown",
   "metadata": {},
   "source": [
    "Run your First Python Program\n",
    "---\n",
    "When programmers are learning a new language, they tend to write a short program that prints some version of the message \"Hello world!\". As a first program, this is enough to demonstrate that the programming environment is correctly configured and running.\n",
    "\n",
    "Double-click in the cell below, and press **Ctrl-Return** to run the code!"
   ]
  },
  {
   "cell_type": "code",
   "execution_count": null,
   "metadata": {},
   "outputs": [],
   "source": [
    "print('Hello World!')"
   ]
  },
  {
   "cell_type": "markdown",
   "metadata": {},
   "source": [
    "Now edit the message to replace \"World\" with your name. Press **Ctrl-Return** to run it again."
   ]
  },
  {
   "cell_type": "markdown",
   "metadata": {},
   "source": [
    "Set Up Your Programming Environment\n",
    "---\n",
    "Jupyter Notebooks can run online - and if you are using online notebooks there is no need to actually set up your own programming environment on your own machine. However, it won't be practical to use online notebooks for all of your own projects. An 'Integrated Development Environment' (IDE) provides more support for debugging a project and working with files, and having being able to run notebooks on your own machine will allow you much greater flexibility in working with notebooks of your own creation.\n",
    "\n",
    "A full Python environment will be set up on school computers for you to use. To set up an environment on your own computer that can run Python scripts and notebooks, we recommend you use Anaconda. If you have been following the course exercises, you should already be using Anaconda to run this notebook!"
   ]
  },
  {
   "cell_type": "markdown",
   "metadata": {},
   "source": [
    "Additional Resources\n",
    "---\n",
    "Python is now one of the world's most popular programming languages - not just for teaching introductory programming, but for a wide range of web applications, data analytics, scientific programming and more. As such, there is no shortage of helpful resources for learning programming in Python. For example:\n",
    "\n",
    "- [The Python website](http://python.org/) - The main Python website is a great resource to know about as you start to learn more.\n",
    "- [Introduction to Python](http://introtopython.org/) - The introduction to python course that these lectures are built on\n",
    "- [Python for Developers](http://ricardoduarte.github.io/python-for-developers/). This also uses Jupyter Notebooks, allowing you to try all the code online. Part 1 covers all of the features you'll need for this course (except for PyGame). The other parts of this course cover some very advanced programming features and concepts - as the name implies, this resource is aimed at professional developers.\n",
    "- There are also a wide range of free online courses at e.g. Coursera, EdX and FutureLearn. As a GSA student you also have access to the tutorials at Lynda.com, e.g. [https://www.lynda.com/Python-training-tutorials/415-0.html]"
   ]
  },
  {
   "cell_type": "markdown",
   "metadata": {},
   "source": [
    "Learning Programming\n",
    "---\n",
    "Learning programming requires very active engagement in learning - it is not enough to just attend lectures, read notes, books, etc. - You need to try out programs, explore them and try to understand how they work, and you need to write your own programs. Initially there may be a lot of 'hacking', trial-and-error editing of code just to see what works. Over time, as you understand things better, you will find that you understand better what is required for any particular problem - and you'll continue to make mistakes and continue to learn from them!\n",
    "\n",
    "Programming is also not so much about learning a particular programming language - but about learning how to solve problems, using particular approaches to break down large problems into smaller problems and be able to determine the sequences of steps required to solve these smaller problems. This is sometimes termed \"computational thinking\" - and is a problem solving approach that can be used to solve problems in the physical as well as the digital world.\n",
    "\n",
    "But the basic advice can be summarised as this: Write programs. Start by writing small and simple programs, and as you learn start working on larger and more complex programs.\n",
    "\n",
    "If you are looking for problems to solve that start fairly simple but become more complex, you could look at e.g. this list of programming problems [https://adriann.github.io/programming_problems.html]. Another list of problems that are all maths based can be found at Project Euler [https://projecteuler.net/] - while the first few of these are fairly straightforward, they rapidly become quite complex."
   ]
  },
  {
   "cell_type": "markdown",
   "metadata": {},
   "source": [
    "Python Versions\n",
    "---\n",
    "There are two different versions of Python currently in common use - Python 2 and Python 3. This course uses Python 3 - but some tutorials or online resources may use Python 2. There are a number of differences between the two versions. Some of these are detailed in Eric Matthes original version of these notes at [introtopython.org](http://introtopython.org). We will not cover them here."
   ]
  },
  {
   "cell_type": "markdown",
   "metadata": {},
   "source": [
    "Lesson Plan\n",
    "---\n",
    "\n",
    "- Introduction (This page!)\n",
    "- Data Types: [Variables, Strings & Numbers](var_string_num.ipynb)\n",
    "    - [Lists and Tuples](lists_tuples.ipynb)\n",
    "    - Optional: [More Lists and Tuples](more_lists_tuples.ipynb)\n",
    "- Selection & Iteration:\n",
    "    - [If statements](if_statements.ipynb)\n",
    "    - [While and Input](while_input.ipynb)\n",
    "- Introduction to PyGame\n",
    "- Programming with Functions\n",
    "    - [Introducing Functions](introducing_functions.ipynb)\n",
    "    - [More Functions](more_functions.ipynb)\n",
    "- Creating a Sidescrolling Game with PyGame\n"
   ]
  }
 ],
 "metadata": {
  "kernelspec": {
   "display_name": "Python 3",
   "language": "python",
   "name": "python3"
  },
  "language_info": {
   "codemirror_mode": {
    "name": "ipython",
    "version": 3
   },
   "file_extension": ".py",
   "mimetype": "text/x-python",
   "name": "python",
   "nbconvert_exporter": "python",
   "pygments_lexer": "ipython3",
   "version": "3.5.6"
  }
 },
 "nbformat": 4,
 "nbformat_minor": 1
}
