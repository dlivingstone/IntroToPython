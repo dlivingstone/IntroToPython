{
 "cells": [
  {
   "cell_type": "markdown",
   "metadata": {},
   "source": [
    "## Welcome to the Introduction to Python Tutorials\n",
    "\n",
    "### Contents\n",
    "\n",
    "- [Introduction](notebooks/index.ipynb)\n",
    "- Data Types: [Variables, Strings & Numbers](notebooks/var_string_num.ipynb)\n",
    "    - [Lists and Tuples](notebooks/lists_tuples.ipynb)\n",
    "    - Optional: [More Lists and Tuples](notebooks/more_lists_tuples.ipynb)\n",
    "- Selection & Iteration:\n",
    "    - [If statements](notebooks/if_statements.ipynb)\n",
    "    - [While and Input](notebooks/while_input.ipynb)\n",
    "- Introduction to PyGame\n",
    "- Programming with Functions\n",
    "    - [Introducing Functions](notebooks/introducing_functions.ipynb)\n",
    "    - [More Functions](notebooks/more_functions.ipynb)\n",
    "- Creating a Sidescrolling Game with PyGame"
   ]
  }
 ],
 "metadata": {
  "kernelspec": {
   "display_name": "Python 3",
   "language": "python",
   "name": "python3"
  },
  "language_info": {
   "codemirror_mode": {
    "name": "ipython",
    "version": 3
   },
   "file_extension": ".py",
   "mimetype": "text/x-python",
   "name": "python",
   "nbconvert_exporter": "python",
   "pygments_lexer": "ipython3",
   "version": "3.6.5"
  }
 },
 "nbformat": 4,
 "nbformat_minor": 2
}
